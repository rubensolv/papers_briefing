{
  "nbformat": 4,
  "nbformat_minor": 0,
  "metadata": {
    "colab": {
      "name": "2020-05-23-first_post.ipynb",
      "provenance": [],
      "authorship_tag": "ABX9TyNNDtcqYjWN/Px2Ykq5cxh6",
      "include_colab_link": true
    },
    "kernelspec": {
      "name": "python3",
      "display_name": "Python 3"
    }
  },
  "cells": [
    {
      "cell_type": "markdown",
      "metadata": {
        "id": "view-in-github",
        "colab_type": "text"
      },
      "source": [
        "<a href=\"https://colab.research.google.com/github/rubensolv/papers_briefing/blob/master/_notebooks/2020_05_23_first_post.ipynb\" target=\"_parent\"><img src=\"https://colab.research.google.com/assets/colab-badge.svg\" alt=\"Open In Colab\"/></a>"
      ]
    },
    {
      "cell_type": "code",
      "metadata": {
        "id": "jJdjGAZo8Dwt",
        "colab_type": "code",
        "colab": {}
      },
      "source": [
        "# \"Why am I writing a blog?\"\n",
        "> \"Awesome summary\"\n",
        "\n",
        "- toc: true- branch: master- badges: true\n",
        "- comments: true\n",
        "- author: Hamel Husain & Jeremy Howard\n",
        "- categories: [fastpages, jupyter]"
      ],
      "execution_count": 0,
      "outputs": []
    }
  ]
}