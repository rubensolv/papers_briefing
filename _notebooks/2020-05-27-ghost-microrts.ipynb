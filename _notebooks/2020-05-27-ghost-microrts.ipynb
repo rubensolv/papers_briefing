{
 "cells": [
  {
   "cell_type": "markdown",
   "metadata": {},
   "source": [
    "# \"Talking about Ghost, MicroRTS and MicroPhantom\"\n",
    "> \"This is a abstract about the paper microPhantom.\"\n",
    "\n",
    "- toc: true\n",
    "- badges: false\n",
    "- comments: true\n",
    "- categories: [abstract, microrts]"
   ]
  },
  {
   "cell_type": "markdown",
   "metadata": {},
   "source": [
    "## A Short Introduction\n",
    "\n",
    "The point that I want to clarify first, is why I'm writing about this specific paper. First of all, my research during the master's degree was completely done around real-time strategy (RTS) games. Second, I used MicroRTS as my testbed platform for years, and I believe that I know sufficiently about it to understand concepts and details around the thematic. Third, the AI described by the paper works in a domain that I didn't work with, the domain called the partially observable, which is a specific setting where the map has a fog of war. Some concepts look necessary at this point. \n",
    "\n",
    "[MicroRTS](github.com/santiontanon/microrts) is an RTS platform, written in Java, which allows researches to develop and to test algorithms for RTS games using a simplified platform. MicroRTS was developed by Santiago Ontañón Villar, and he maintains a yearly competition using this testbed. \n",
    "\n",
    "Real-time strategy games are interesting platforms to allow researches from different fields of artificial intelligence because they contain constraints as real-time decisions, resource management, space discovery, production strategy, and etc."
   ]
  },
  {
   "cell_type": "markdown",
   "metadata": {},
   "source": [
    "## Talking about the paper \n",
    "\n",
    "The paper [MicroPhantom: Playing microRTS under uncertainty and chaos](arxiv.org/pdf/2005.11019.pdf), written by Florian Richoux, shows the agent called MicroPhantom, a mixed player that combines his old bot POAdaptative with GHOST to solve the problem of decision-making under uncertainty focused on unit production problem.\n",
    "\n",
    "The concept of the problem **decision-making under uncertainty** in RTS games consist of the classical problem around take decisions where the player do not have all pieces of information about the game state, it means that in partially observable games, under a fog of war, the player has the quantity of information that his units can see. Otherwise, the map is covered by fog. When a player is under constraints like that, he needs to decide which action will perform in a short time and a long time to beat his opponent."
   ]
  }
 ],
 "metadata": {
  "kernelspec": {
   "display_name": "Python 3",
   "language": "python",
   "name": "python3"
  },
  "language_info": {
   "codemirror_mode": {
    "name": "ipython",
    "version": 3
   },
   "file_extension": ".py",
   "mimetype": "text/x-python",
   "name": "python",
   "nbconvert_exporter": "python",
   "pygments_lexer": "ipython3",
   "version": "3.8.2"
  }
 },
 "nbformat": 4,
 "nbformat_minor": 4
}
