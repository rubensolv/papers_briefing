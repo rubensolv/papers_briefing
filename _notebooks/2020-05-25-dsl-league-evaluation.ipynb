{
 "cells": [
  {
   "cell_type": "markdown",
   "metadata": {},
   "source": [
    "# \"Evaluating LeagueDSL in a large number of maps\"\n",
    "> \"Checking for ways to present some results of my research.\"\n",
    "\n",
    "- toc: true\n",
    "- badges: false\n",
    "- comments: true\n",
    "- categories: [evaluations, tests]"
   ]
  },
  {
   "cell_type": "code",
   "execution_count": 13,
   "metadata": {},
   "outputs": [],
   "source": [
    "#collapse-hide\n",
    "import pandas as pd\n",
    "import altair as alt\n",
    "import numpy as np"
   ]
  },
  {
   "cell_type": "markdown",
   "metadata": {},
   "source": [
    "## Map Battle"
   ]
  },
  {
   "cell_type": "markdown",
   "metadata": {},
   "source": [
    "### Quantity of Iterations"
   ]
  },
  {
   "cell_type": "code",
   "execution_count": 2,
   "metadata": {},
   "outputs": [
    {
     "data": {
      "text/html": [
       "<div>\n",
       "<style scoped>\n",
       "    .dataframe tbody tr th:only-of-type {\n",
       "        vertical-align: middle;\n",
       "    }\n",
       "\n",
       "    .dataframe tbody tr th {\n",
       "        vertical-align: top;\n",
       "    }\n",
       "\n",
       "    .dataframe thead th {\n",
       "        text-align: right;\n",
       "    }\n",
       "</style>\n",
       "<table border=\"1\" class=\"dataframe\">\n",
       "  <thead>\n",
       "    <tr style=\"text-align: right;\">\n",
       "      <th></th>\n",
       "      <th>Test</th>\n",
       "      <th>Iterations</th>\n",
       "    </tr>\n",
       "  </thead>\n",
       "  <tbody>\n",
       "    <tr>\n",
       "      <th>0</th>\n",
       "      <td>LB-42826107.out</td>\n",
       "      <td>3</td>\n",
       "    </tr>\n",
       "    <tr>\n",
       "      <th>1</th>\n",
       "      <td>LBattle-31696511.out</td>\n",
       "      <td>5</td>\n",
       "    </tr>\n",
       "    <tr>\n",
       "      <th>2</th>\n",
       "      <td>LBattle-31696509.out</td>\n",
       "      <td>4</td>\n",
       "    </tr>\n",
       "    <tr>\n",
       "      <th>3</th>\n",
       "      <td>LBattle-31696507.out</td>\n",
       "      <td>5</td>\n",
       "    </tr>\n",
       "    <tr>\n",
       "      <th>4</th>\n",
       "      <td>LBattle-31696506.out</td>\n",
       "      <td>3</td>\n",
       "    </tr>\n",
       "  </tbody>\n",
       "</table>\n",
       "</div>"
      ],
      "text/plain": [
       "                   Test  Iterations\n",
       "0       LB-42826107.out           3\n",
       "1  LBattle-31696511.out           5\n",
       "2  LBattle-31696509.out           4\n",
       "3  LBattle-31696507.out           5\n",
       "4  LBattle-31696506.out           3"
      ]
     },
     "execution_count": 2,
     "metadata": {},
     "output_type": "execute_result"
    }
   ],
   "source": [
    "#collapse-hide\n",
    "l = [['LB-42826107.out', 3], ['LBattle-31696511.out', 5], ['LBattle-31696509.out', 4], ['LBattle-31696507.out', 5], ['LBattle-31696506.out', 3], ['LB-42826120.out', 4]]\n",
    "df = pd.DataFrame(l, columns=['Test','Iterations'])\n",
    "df.head()"
   ]
  },
  {
   "cell_type": "markdown",
   "metadata": {},
   "source": [
    "## Map 8x8"
   ]
  },
  {
   "cell_type": "markdown",
   "metadata": {},
   "source": [
    "### Quantity of Iterations"
   ]
  },
  {
   "cell_type": "code",
   "execution_count": 11,
   "metadata": {
    "scrolled": true
   },
   "outputs": [
    {
     "data": {
      "text/html": [
       "<div>\n",
       "<style scoped>\n",
       "    .dataframe tbody tr th:only-of-type {\n",
       "        vertical-align: middle;\n",
       "    }\n",
       "\n",
       "    .dataframe tbody tr th {\n",
       "        vertical-align: top;\n",
       "    }\n",
       "\n",
       "    .dataframe thead th {\n",
       "        text-align: right;\n",
       "    }\n",
       "</style>\n",
       "<table border=\"1\" class=\"dataframe\">\n",
       "  <thead>\n",
       "    <tr style=\"text-align: right;\">\n",
       "      <th></th>\n",
       "      <th>Test</th>\n",
       "      <th>Iterations</th>\n",
       "    </tr>\n",
       "  </thead>\n",
       "  <tbody>\n",
       "    <tr>\n",
       "      <th>0</th>\n",
       "      <td>L8-42826052.out</td>\n",
       "      <td>2</td>\n",
       "    </tr>\n",
       "    <tr>\n",
       "      <th>1</th>\n",
       "      <td>L8x8-31696644.out</td>\n",
       "      <td>3</td>\n",
       "    </tr>\n",
       "    <tr>\n",
       "      <th>2</th>\n",
       "      <td>L8x8-31696609.out</td>\n",
       "      <td>2</td>\n",
       "    </tr>\n",
       "    <tr>\n",
       "      <th>3</th>\n",
       "      <td>L8-42826046.out</td>\n",
       "      <td>4</td>\n",
       "    </tr>\n",
       "    <tr>\n",
       "      <th>4</th>\n",
       "      <td>L8x8-31696645.out</td>\n",
       "      <td>3</td>\n",
       "    </tr>\n",
       "  </tbody>\n",
       "</table>\n",
       "</div>"
      ],
      "text/plain": [
       "                Test  Iterations\n",
       "0    L8-42826052.out           2\n",
       "1  L8x8-31696644.out           3\n",
       "2  L8x8-31696609.out           2\n",
       "3    L8-42826046.out           4\n",
       "4  L8x8-31696645.out           3"
      ]
     },
     "execution_count": 11,
     "metadata": {},
     "output_type": "execute_result"
    }
   ],
   "source": [
    "#collapse-hide\n",
    "l = [['L8-42826052.out', 2], ['L8x8-31696644.out', 3], ['L8x8-31696609.out', 2], ['L8-42826046.out', 4], ['L8x8-31696645.out', 3], ['L8x8-31696632.out', 3]]\n",
    "df = pd.DataFrame(l, columns=['Test','Iterations'])\n",
    "df.head(5)"
   ]
  },
  {
   "cell_type": "markdown",
   "metadata": {},
   "source": [
    "## Map 9x8"
   ]
  },
  {
   "cell_type": "markdown",
   "metadata": {},
   "source": [
    "### Quantity of Iterations"
   ]
  },
  {
   "cell_type": "code",
   "execution_count": 50,
   "metadata": {
    "scrolled": false
   },
   "outputs": [
    {
     "data": {
      "text/html": [
       "<div>\n",
       "<style scoped>\n",
       "    .dataframe tbody tr th:only-of-type {\n",
       "        vertical-align: middle;\n",
       "    }\n",
       "\n",
       "    .dataframe tbody tr th {\n",
       "        vertical-align: top;\n",
       "    }\n",
       "\n",
       "    .dataframe thead th {\n",
       "        text-align: right;\n",
       "    }\n",
       "</style>\n",
       "<table border=\"1\" class=\"dataframe\">\n",
       "  <thead>\n",
       "    <tr style=\"text-align: right;\">\n",
       "      <th></th>\n",
       "      <th>Test</th>\n",
       "      <th>Iterations</th>\n",
       "    </tr>\n",
       "  </thead>\n",
       "  <tbody>\n",
       "    <tr>\n",
       "      <th>0</th>\n",
       "      <td>L9-42849689.out</td>\n",
       "      <td>1</td>\n",
       "    </tr>\n",
       "    <tr>\n",
       "      <th>1</th>\n",
       "      <td>L9x8-31696705.out</td>\n",
       "      <td>1</td>\n",
       "    </tr>\n",
       "    <tr>\n",
       "      <th>2</th>\n",
       "      <td>L9x8-31696699.out</td>\n",
       "      <td>1</td>\n",
       "    </tr>\n",
       "  </tbody>\n",
       "</table>\n",
       "</div>"
      ],
      "text/plain": [
       "                Test  Iterations\n",
       "0    L9-42849689.out           1\n",
       "1  L9x8-31696705.out           1\n",
       "2  L9x8-31696699.out           1"
      ]
     },
     "execution_count": 50,
     "metadata": {},
     "output_type": "execute_result"
    }
   ],
   "source": [
    "#collapse-hide\n",
    "l = [['L9-42849689.out', 1], ['L9x8-31696705.out', 1], ['L9x8-31696699.out', 1]]\n",
    "df = pd.DataFrame(l, columns=['Test','Iterations'])\n",
    "df.head()"
   ]
  },
  {
   "cell_type": "code",
   "execution_count": 113,
   "metadata": {},
   "outputs": [],
   "source": [
    "#collapse-hide\n",
    "dt9_8 = pd.read_csv(\"/home/rubens/papers_briefing/csvs/map9x8.csv\")\n",
    "#dt9_8.head()\n"
   ]
  },
  {
   "cell_type": "code",
   "execution_count": 112,
   "metadata": {},
   "outputs": [
    {
     "data": {
      "text/html": [
       "\n",
       "<div id=\"altair-viz-1c0a16537e9345c5b3572a326145ef5f\"></div>\n",
       "<script type=\"text/javascript\">\n",
       "  (function(spec, embedOpt){\n",
       "    let outputDiv = document.currentScript.previousElementSibling;\n",
       "    if (outputDiv.id !== \"altair-viz-1c0a16537e9345c5b3572a326145ef5f\") {\n",
       "      outputDiv = document.getElementById(\"altair-viz-1c0a16537e9345c5b3572a326145ef5f\");\n",
       "    }\n",
       "    const paths = {\n",
       "      \"vega\": \"https://cdn.jsdelivr.net/npm//vega@5?noext\",\n",
       "      \"vega-lib\": \"https://cdn.jsdelivr.net/npm//vega-lib?noext\",\n",
       "      \"vega-lite\": \"https://cdn.jsdelivr.net/npm//vega-lite@4.8.1?noext\",\n",
       "      \"vega-embed\": \"https://cdn.jsdelivr.net/npm//vega-embed@6?noext\",\n",
       "    };\n",
       "\n",
       "    function loadScript(lib) {\n",
       "      return new Promise(function(resolve, reject) {\n",
       "        var s = document.createElement('script');\n",
       "        s.src = paths[lib];\n",
       "        s.async = true;\n",
       "        s.onload = () => resolve(paths[lib]);\n",
       "        s.onerror = () => reject(`Error loading script: ${paths[lib]}`);\n",
       "        document.getElementsByTagName(\"head\")[0].appendChild(s);\n",
       "      });\n",
       "    }\n",
       "\n",
       "    function showError(err) {\n",
       "      outputDiv.innerHTML = `<div class=\"error\" style=\"color:red;\">${err}</div>`;\n",
       "      throw err;\n",
       "    }\n",
       "\n",
       "    function displayChart(vegaEmbed) {\n",
       "      vegaEmbed(outputDiv, spec, embedOpt)\n",
       "        .catch(err => showError(`Javascript Error: ${err.message}<br>This usually means there's a typo in your chart specification. See the javascript console for the full traceback.`));\n",
       "    }\n",
       "\n",
       "    if(typeof define === \"function\" && define.amd) {\n",
       "      requirejs.config({paths});\n",
       "      require([\"vega-embed\"], displayChart, err => showError(`Error loading script: ${err.message}`));\n",
       "    } else if (typeof vegaEmbed === \"function\") {\n",
       "      displayChart(vegaEmbed);\n",
       "    } else {\n",
       "      loadScript(\"vega\")\n",
       "        .then(() => loadScript(\"vega-lite\"))\n",
       "        .then(() => loadScript(\"vega-embed\"))\n",
       "        .catch(showError)\n",
       "        .then(() => displayChart(vegaEmbed));\n",
       "    }\n",
       "  })({\"config\": {\"view\": {\"continuousWidth\": 400, \"continuousHeight\": 300}}, \"vconcat\": [{\"mark\": {\"type\": \"bar\", \"filled\": true, \"size\": 60}, \"encoding\": {\"color\": {\"condition\": {\"type\": \"nominal\", \"field\": \"Player\", \"scale\": {\"domain\": [\"P1\", \"P2\", \"P3\", \"P4\", \"P5\", \"P6\", \"P7\", \"P8\", \"P9\", \"P10\", \"P11\", \"P12\"], \"scheme\": \"category20b\"}, \"selection\": \"selector065\"}, \"value\": \"lightgray\"}, \"x\": {\"type\": \"nominal\", \"field\": \"Player\"}, \"y\": {\"type\": \"quantitative\", \"field\": \"TOTAL\", \"scale\": {\"domain\": [0, 31.5]}}}, \"height\": 200, \"selection\": {\"selector065\": {\"type\": \"single\", \"empty\": \"all\", \"fields\": [\"Player\"]}}, \"width\": 800}, {\"hconcat\": [{\"mark\": {\"type\": \"bar\", \"opacity\": 0.5, \"thickness\": 100}, \"encoding\": {\"color\": {\"type\": \"nominal\", \"field\": \"Player\", \"scale\": {\"domain\": [\"P1\", \"P2\", \"P3\", \"P4\", \"P5\", \"P6\", \"P7\", \"P8\", \"P9\", \"P10\", \"P11\", \"P12\"], \"scheme\": \"category20b\"}}, \"tooltip\": [{\"type\": \"nominal\", \"field\": \"Code\"}], \"x\": {\"type\": \"nominal\", \"field\": \"Player\"}, \"y\": {\"type\": \"quantitative\", \"field\": \"STT\", \"scale\": {\"domain\": [0, 10]}, \"stack\": null}}, \"height\": 200, \"selection\": {\"selector065\": {\"type\": \"single\", \"empty\": \"all\", \"fields\": [\"Player\"]}}, \"transform\": [{\"filter\": {\"selection\": \"selector065\"}}], \"width\": 160}, {\"mark\": {\"type\": \"bar\", \"opacity\": 0.5, \"thickness\": 100}, \"encoding\": {\"color\": {\"type\": \"nominal\", \"field\": \"Player\", \"scale\": {\"domain\": [\"P1\", \"P2\", \"P3\", \"P4\", \"P5\", \"P6\", \"P7\", \"P8\", \"P9\", \"P10\", \"P11\", \"P12\"], \"scheme\": \"category20b\"}}, \"tooltip\": [{\"type\": \"nominal\", \"field\": \"Code\"}], \"x\": {\"type\": \"nominal\", \"field\": \"Player\"}, \"y\": {\"type\": \"quantitative\", \"field\": \"LIR\", \"scale\": {\"domain\": [0, 10]}, \"stack\": null}}, \"height\": 200, \"selection\": {\"selector065\": {\"type\": \"single\", \"empty\": \"all\", \"fields\": [\"Player\"]}}, \"transform\": [{\"filter\": {\"selection\": \"selector065\"}}], \"width\": 160}, {\"mark\": {\"type\": \"bar\", \"opacity\": 1.0, \"thickness\": 80}, \"encoding\": {\"color\": {\"type\": \"nominal\", \"field\": \"Player\", \"scale\": {\"domain\": [\"P1\", \"P2\", \"P3\", \"P4\", \"P5\", \"P6\", \"P7\", \"P8\", \"P9\", \"P10\", \"P11\", \"P12\"], \"scheme\": \"category20b\"}}, \"tooltip\": [{\"type\": \"nominal\", \"field\": \"Code\"}], \"x\": {\"type\": \"nominal\", \"field\": \"Player\"}, \"y\": {\"type\": \"quantitative\", \"field\": \"NS\", \"scale\": {\"domain\": [0, 10]}, \"stack\": null}}, \"height\": 200, \"selection\": {\"selector065\": {\"type\": \"single\", \"empty\": \"all\", \"fields\": [\"Player\"]}}, \"transform\": [{\"filter\": {\"selection\": \"selector065\"}}], \"width\": 160}, {\"mark\": {\"type\": \"bar\", \"opacity\": 1.0, \"thickness\": 80}, \"encoding\": {\"color\": {\"type\": \"nominal\", \"field\": \"Player\", \"scale\": {\"domain\": [\"P1\", \"P2\", \"P3\", \"P4\", \"P5\", \"P6\", \"P7\", \"P8\", \"P9\", \"P10\", \"P11\", \"P12\"], \"scheme\": \"category20b\"}}, \"tooltip\": [{\"type\": \"nominal\", \"field\": \"Code\"}], \"x\": {\"type\": \"nominal\", \"field\": \"Player\"}, \"y\": {\"type\": \"quantitative\", \"field\": \"A3N\", \"scale\": {\"domain\": [0, 10]}, \"stack\": null}}, \"height\": 200, \"selection\": {\"selector065\": {\"type\": \"single\", \"empty\": \"all\", \"fields\": [\"Player\"]}}, \"transform\": [{\"filter\": {\"selection\": \"selector065\"}}], \"width\": 160}]}], \"data\": {\"name\": \"data-d7f388355fd1e9d24de8201d18c5cd55\"}, \"$schema\": \"https://vega.github.io/schema/vega-lite/v4.8.1.json\", \"datasets\": {\"data-d7f388355fd1e9d24de8201d18c5cd55\": [{\"Player\": \"P1\", \"STT\": 2.5, \"LIR\": 0.0, \"NS\": 0.0, \"A3N\": 5.0, \"TOTAL\": 7.5, \"Type\": null, \"Code\": \"train(Worker,19,EnemyDir)\"}, {\"Player\": \"P2\", \"STT\": 5.0, \"LIR\": 1.0, \"NS\": 2.5, \"A3N\": 6.0, \"TOTAL\": 14.5, \"Type\": null, \"Code\": \"attack(Worker,closest) train(Worker,6,Left) build(Base,3,Left) harvest(6)\"}, {\"Player\": \"P3\", \"STT\": 1.0, \"LIR\": 0.0, \"NS\": 0.0, \"A3N\": 0.0, \"TOTAL\": 1.0, \"Type\": null, \"Code\": \"harvest(2) for(u) (attack(Worker,closest,u) harvest(7,u) train(Worker,7,Left))\"}, {\"Player\": \"P4\", \"STT\": 3.0, \"LIR\": 0.0, \"NS\": 1.0, \"A3N\": 3.0, \"TOTAL\": 7.0, \"Type\": null, \"Code\": \"train(Worker,4,EnemyDir) for(u) (build(Base,3,Right,u) attack(Worker,closest,u) harvest(4,u))\"}, {\"Player\": \"P5\", \"STT\": 8.0, \"LIR\": 0.0, \"NS\": 4.5, \"A3N\": 4.0, \"TOTAL\": 16.5, \"Type\": null, \"Code\": \"for(u) (attack(Worker,closest,u) train(Worker,5,Left) build(Barrack,1,Right,u) harvest(9,u) moveaway(Worker,u))\"}, {\"Player\": \"P6\", \"STT\": 0.0, \"LIR\": 0.0, \"NS\": 0.0, \"A3N\": 0.0, \"TOTAL\": 0.0, \"Type\": null, \"Code\": \"for(u) (harvest(4,u) attack(Worker,closest,u) harvest(5,u) build(Base,2,Left,u)) for(u) (train(Worker,7,Right) harvest(5,u))\"}, {\"Player\": \"P7\", \"STT\": 0.0, \"LIR\": 0.0, \"NS\": 0.0, \"A3N\": 4.0, \"TOTAL\": 4.0, \"Type\": null, \"Code\": \"for(u) (harvest(8,u) moveaway(Worker,u) train(Worker,16,EnemyDir)) for(u) (build(Barrack,3,Up,u)) for(u) (attack(Worker,weakest,u))\"}, {\"Player\": \"P8\", \"STT\": 0.0, \"LIR\": 0.0, \"NS\": 0.0, \"A3N\": 0.0, \"TOTAL\": 0.0, \"Type\": null, \"Code\": \"for(u) (train(Worker,5,Up)) if(HaveQtdUnitsbyType(Ranged,8)) (build(Barrack,2,Right)) for(u) (attack(Worker,mostHealthy,u) harvest(8,u))\"}, {\"Player\": \"P9\", \"STT\": 2.0, \"LIR\": 0.0, \"NS\": 0.0, \"A3N\": 0.0, \"TOTAL\": 2.0, \"Type\": null, \"Code\": \"for(u) (train(Worker,5,Right)) for(u) (attack(Worker,lessHealthy,u) harvest(1,u) train(Ranged,13,Down) harvest(3,u) build(Barrack,2,Left,u))\"}, {\"Player\": \"P10\", \"STT\": 0.0, \"LIR\": 0.0, \"NS\": 0.0, \"A3N\": 0.0, \"TOTAL\": 0.0, \"Type\": null, \"Code\": \"for(u) (if(HaveUnitsToDistantToEnemy(Worker,4,u)) (build(Base,2,Down,u)) (harvest(1,u)) attack(Worker,lessHealthy,u) harvest(8,u)) for(u) (train(Worker,15,Right))\"}, {\"Player\": \"P11\", \"STT\": 1.0, \"LIR\": 0.0, \"NS\": 0.0, \"A3N\": 0.0, \"TOTAL\": 1.0, \"Type\": null, \"Code\": \"for(u) (train(Worker,4,Up) attack(Worker,lessHealthy,u) if(HaveQtdUnitsHarversting(1)) (build(Barrack,1,Down,u)) harvest(5,u) train(Heavy,3,EnemyDir) attack(Heavy,lessHealthy,u))\"}, {\"Player\": \"P12\", \"STT\": 9.5, \"LIR\": 5.0, \"NS\": 7.0, \"A3N\": 10.0, \"TOTAL\": 31.5, \"Type\": null, \"Code\": \"for(u) (train(Ranged,4,Up) harvest(6,u) train(Worker,6,Left)) build(Barrack,2,Right) attack(Ranged,closest) for(u) (moveToUnit(Worker,Ally,farthest,u)) moveToUnit(Ranged,Ally,lessHealthy)\"}]}}, {\"mode\": \"vega-lite\"});\n",
       "</script>"
      ],
      "text/plain": [
       "alt.VConcatChart(...)"
      ]
     },
     "execution_count": 112,
     "metadata": {},
     "output_type": "execute_result"
    }
   ],
   "source": [
    "#collapse-hide\n",
    "selector = alt.selection_single(empty='all', fields=['Player'])\n",
    "l = dt9_8['Player'].tolist()\n",
    "color_scale = alt.Scale(domain=l,scheme=\"category20b\")\n",
    "base = alt.Chart(dt9_8).properties(\n",
    "    width=800,\n",
    "    height=200\n",
    ").add_selection(selector)\n",
    "\n",
    "points = base.mark_bar(filled=True, size=60).encode(\n",
    "    x=alt.X('Player:N'),\n",
    "    y=alt.Y('TOTAL:Q',\n",
    "            scale=alt.Scale(domain=[0,max(dt9_8['TOTAL'].tolist())])),\n",
    "    color=alt.condition(selector,\n",
    "                        'Player:N',\n",
    "                        alt.value('lightgray'),\n",
    "                        scale=color_scale),\n",
    ")\n",
    "\n",
    "hists = base.mark_bar(opacity=0.5, thickness=100).encode(\n",
    "    x=alt.X('Player:N'),\n",
    "    y=alt.Y('STT:Q',\n",
    "            stack=None,\n",
    "            scale=alt.Scale(domain=[0,10])),\n",
    "    color=alt.Color('Player:N',\n",
    "                    scale=color_scale),\n",
    "    tooltip=['Code:N']\n",
    ").transform_filter(\n",
    "    selector\n",
    ").properties(\n",
    "    width=160,\n",
    "    height=200\n",
    ")\n",
    "\n",
    "hists2 = base.mark_bar(opacity=0.5, thickness=100).encode(\n",
    "    x=alt.X('Player:N'),\n",
    "    y=alt.Y('LIR:Q',\n",
    "            stack=None,\n",
    "            scale=alt.Scale(domain=[0,10])),\n",
    "    color=alt.Color('Player:N',\n",
    "                    scale=color_scale),\n",
    "    tooltip=['Code:N']\n",
    ").transform_filter(\n",
    "    selector\n",
    ").properties(\n",
    "    width=160,\n",
    "    height=200\n",
    ")\n",
    "\n",
    "hists3 = base.mark_bar(opacity=1.0, thickness=80).encode(\n",
    "    x=alt.X('Player:N'),\n",
    "    y=alt.Y('NS:Q',\n",
    "            stack=None,\n",
    "            scale=alt.Scale(domain=[0,10])),\n",
    "    color=alt.Color('Player:N',\n",
    "                    scale=color_scale),\n",
    "    tooltip=['Code:N']\n",
    ").transform_filter(\n",
    "    selector\n",
    ").properties(\n",
    "    width=160,\n",
    "    height=200\n",
    ")\n",
    "\n",
    "hists4 = base.mark_bar(opacity=1.0, thickness=80).encode(\n",
    "    x=alt.X('Player:N'),\n",
    "    y=alt.Y('A3N:Q',\n",
    "            stack=None,\n",
    "            scale=alt.Scale(domain=[0,10])),\n",
    "    color=alt.Color('Player:N',\n",
    "                    scale=color_scale),\n",
    "    tooltip=['Code:N']\n",
    ").transform_filter(\n",
    "    selector\n",
    ").properties(\n",
    "    width=160,\n",
    "    height=200\n",
    ")\n",
    "\n",
    "alt.vconcat(points , hists | hists2 | hists3 | hists4)"
   ]
  },
  {
   "cell_type": "markdown",
   "metadata": {},
   "source": [
    "## Map 16x16"
   ]
  },
  {
   "cell_type": "markdown",
   "metadata": {},
   "source": [
    "### Quantity of Iterations"
   ]
  },
  {
   "cell_type": "code",
   "execution_count": 5,
   "metadata": {
    "scrolled": true
   },
   "outputs": [
    {
     "data": {
      "text/html": [
       "<div>\n",
       "<style scoped>\n",
       "    .dataframe tbody tr th:only-of-type {\n",
       "        vertical-align: middle;\n",
       "    }\n",
       "\n",
       "    .dataframe tbody tr th {\n",
       "        vertical-align: top;\n",
       "    }\n",
       "\n",
       "    .dataframe thead th {\n",
       "        text-align: right;\n",
       "    }\n",
       "</style>\n",
       "<table border=\"1\" class=\"dataframe\">\n",
       "  <thead>\n",
       "    <tr style=\"text-align: right;\">\n",
       "      <th></th>\n",
       "      <th>Test</th>\n",
       "      <th>Iterations</th>\n",
       "    </tr>\n",
       "  </thead>\n",
       "  <tbody>\n",
       "    <tr>\n",
       "      <th>0</th>\n",
       "      <td>L16x16-31696803.out</td>\n",
       "      <td>3</td>\n",
       "    </tr>\n",
       "    <tr>\n",
       "      <th>1</th>\n",
       "      <td>L16x16-31696791.out</td>\n",
       "      <td>2</td>\n",
       "    </tr>\n",
       "    <tr>\n",
       "      <th>2</th>\n",
       "      <td>L16-42825999.out</td>\n",
       "      <td>3</td>\n",
       "    </tr>\n",
       "    <tr>\n",
       "      <th>3</th>\n",
       "      <td>L16-42872936.out</td>\n",
       "      <td>4</td>\n",
       "    </tr>\n",
       "    <tr>\n",
       "      <th>4</th>\n",
       "      <td>L16-42872925.out</td>\n",
       "      <td>3</td>\n",
       "    </tr>\n",
       "  </tbody>\n",
       "</table>\n",
       "</div>"
      ],
      "text/plain": [
       "                  Test  Iterations\n",
       "0  L16x16-31696803.out           3\n",
       "1  L16x16-31696791.out           2\n",
       "2     L16-42825999.out           3\n",
       "3     L16-42872936.out           4\n",
       "4     L16-42872925.out           3"
      ]
     },
     "execution_count": 5,
     "metadata": {},
     "output_type": "execute_result"
    }
   ],
   "source": [
    "#collapse-hide\n",
    "l = [['L16x16-31696803.out', 3], ['L16x16-31696791.out', 2], ['L16-42825999.out', 3], ['L16-42872936.out', 4], ['L16-42872925.out', 3]]\n",
    "df = pd.DataFrame(l, columns=['Test','Iterations'])\n",
    "df.head()"
   ]
  },
  {
   "cell_type": "markdown",
   "metadata": {},
   "source": [
    "## Map 24x24"
   ]
  },
  {
   "cell_type": "markdown",
   "metadata": {},
   "source": [
    "### Quantity of Iterations"
   ]
  },
  {
   "cell_type": "code",
   "execution_count": 6,
   "metadata": {
    "scrolled": true
   },
   "outputs": [
    {
     "data": {
      "text/html": [
       "<div>\n",
       "<style scoped>\n",
       "    .dataframe tbody tr th:only-of-type {\n",
       "        vertical-align: middle;\n",
       "    }\n",
       "\n",
       "    .dataframe tbody tr th {\n",
       "        vertical-align: top;\n",
       "    }\n",
       "\n",
       "    .dataframe thead th {\n",
       "        text-align: right;\n",
       "    }\n",
       "</style>\n",
       "<table border=\"1\" class=\"dataframe\">\n",
       "  <thead>\n",
       "    <tr style=\"text-align: right;\">\n",
       "      <th></th>\n",
       "      <th>Test</th>\n",
       "      <th>Iterations</th>\n",
       "    </tr>\n",
       "  </thead>\n",
       "  <tbody>\n",
       "    <tr>\n",
       "      <th>0</th>\n",
       "      <td>L24x24-31696820.out</td>\n",
       "      <td>1</td>\n",
       "    </tr>\n",
       "    <tr>\n",
       "      <th>1</th>\n",
       "      <td>L24-42826032.out</td>\n",
       "      <td>1</td>\n",
       "    </tr>\n",
       "    <tr>\n",
       "      <th>2</th>\n",
       "      <td>L24x24-31696815.out</td>\n",
       "      <td>1</td>\n",
       "    </tr>\n",
       "    <tr>\n",
       "      <th>3</th>\n",
       "      <td>L24-42826026.out</td>\n",
       "      <td>1</td>\n",
       "    </tr>\n",
       "    <tr>\n",
       "      <th>4</th>\n",
       "      <td>L24x24-31696816.out</td>\n",
       "      <td>1</td>\n",
       "    </tr>\n",
       "  </tbody>\n",
       "</table>\n",
       "</div>"
      ],
      "text/plain": [
       "                  Test  Iterations\n",
       "0  L24x24-31696820.out           1\n",
       "1     L24-42826032.out           1\n",
       "2  L24x24-31696815.out           1\n",
       "3     L24-42826026.out           1\n",
       "4  L24x24-31696816.out           1"
      ]
     },
     "execution_count": 6,
     "metadata": {},
     "output_type": "execute_result"
    }
   ],
   "source": [
    "#collapse-hide\n",
    "l = [['L24x24-31696820.out', 1], ['L24-42826032.out', 1], ['L24x24-31696815.out', 1], ['L24-42826026.out', 1], ['L24x24-31696816.out', 1]]\n",
    "df = pd.DataFrame(l, columns=['Test','Iterations'])\n",
    "df.head()"
   ]
  },
  {
   "cell_type": "code",
   "execution_count": 17,
   "metadata": {},
   "outputs": [
    {
     "data": {
      "text/html": [
       "<div>\n",
       "<style scoped>\n",
       "    .dataframe tbody tr th:only-of-type {\n",
       "        vertical-align: middle;\n",
       "    }\n",
       "\n",
       "    .dataframe tbody tr th {\n",
       "        vertical-align: top;\n",
       "    }\n",
       "\n",
       "    .dataframe thead th {\n",
       "        text-align: right;\n",
       "    }\n",
       "</style>\n",
       "<table border=\"1\" class=\"dataframe\">\n",
       "  <thead>\n",
       "    <tr style=\"text-align: right;\">\n",
       "      <th></th>\n",
       "      <th>gender</th>\n",
       "      <th>height</th>\n",
       "      <th>weight</th>\n",
       "      <th>age</th>\n",
       "    </tr>\n",
       "  </thead>\n",
       "  <tbody>\n",
       "    <tr>\n",
       "      <th>0</th>\n",
       "      <td>M</td>\n",
       "      <td>68.745453</td>\n",
       "      <td>53.597170</td>\n",
       "      <td>51.407150</td>\n",
       "    </tr>\n",
       "    <tr>\n",
       "      <th>1</th>\n",
       "      <td>M</td>\n",
       "      <td>66.784568</td>\n",
       "      <td>-34.589560</td>\n",
       "      <td>41.239578</td>\n",
       "    </tr>\n",
       "    <tr>\n",
       "      <th>2</th>\n",
       "      <td>M</td>\n",
       "      <td>59.473213</td>\n",
       "      <td>80.815005</td>\n",
       "      <td>51.208131</td>\n",
       "    </tr>\n",
       "    <tr>\n",
       "      <th>3</th>\n",
       "      <td>M</td>\n",
       "      <td>72.996276</td>\n",
       "      <td>248.271532</td>\n",
       "      <td>43.227893</td>\n",
       "    </tr>\n",
       "    <tr>\n",
       "      <th>4</th>\n",
       "      <td>M</td>\n",
       "      <td>70.464168</td>\n",
       "      <td>149.130279</td>\n",
       "      <td>45.416712</td>\n",
       "    </tr>\n",
       "    <tr>\n",
       "      <th>5</th>\n",
       "      <td>M</td>\n",
       "      <td>65.023936</td>\n",
       "      <td>307.233666</td>\n",
       "      <td>48.525166</td>\n",
       "    </tr>\n",
       "    <tr>\n",
       "      <th>6</th>\n",
       "      <td>M</td>\n",
       "      <td>69.217167</td>\n",
       "      <td>302.500105</td>\n",
       "      <td>51.964809</td>\n",
       "    </tr>\n",
       "    <tr>\n",
       "      <th>7</th>\n",
       "      <td>M</td>\n",
       "      <td>61.545971</td>\n",
       "      <td>96.790650</td>\n",
       "      <td>39.894821</td>\n",
       "    </tr>\n",
       "    <tr>\n",
       "      <th>8</th>\n",
       "      <td>M</td>\n",
       "      <td>76.072593</td>\n",
       "      <td>338.581420</td>\n",
       "      <td>47.774158</td>\n",
       "    </tr>\n",
       "    <tr>\n",
       "      <th>9</th>\n",
       "      <td>M</td>\n",
       "      <td>77.397006</td>\n",
       "      <td>131.839091</td>\n",
       "      <td>33.263421</td>\n",
       "    </tr>\n",
       "  </tbody>\n",
       "</table>\n",
       "</div>"
      ],
      "text/plain": [
       "  gender     height      weight        age\n",
       "0      M  68.745453   53.597170  51.407150\n",
       "1      M  66.784568  -34.589560  41.239578\n",
       "2      M  59.473213   80.815005  51.208131\n",
       "3      M  72.996276  248.271532  43.227893\n",
       "4      M  70.464168  149.130279  45.416712\n",
       "5      M  65.023936  307.233666  48.525166\n",
       "6      M  69.217167  302.500105  51.964809\n",
       "7      M  61.545971   96.790650  39.894821\n",
       "8      M  76.072593  338.581420  47.774158\n",
       "9      M  77.397006  131.839091  33.263421"
      ]
     },
     "execution_count": 17,
     "metadata": {},
     "output_type": "execute_result"
    }
   ],
   "source": [
    "source = pd.DataFrame({'gender': ['M']*1000 + ['F']*1000,\n",
    "               'height':np.concatenate((np.random.normal(69, 7, 1000),\n",
    "                                       np.random.normal(64, 6, 1000))),\n",
    "               'weight': np.concatenate((np.random.normal(195.8, 144, 1000),\n",
    "                                        np.random.normal(167, 100, 1000))),\n",
    "               'age': np.concatenate((np.random.normal(45, 8, 1000),\n",
    "                                        np.random.normal(51, 6, 1000)))\n",
    "        })\n",
    "source.head(10)"
   ]
  }
 ],
 "metadata": {
  "kernelspec": {
   "display_name": "Python 3",
   "language": "python",
   "name": "python3"
  },
  "language_info": {
   "codemirror_mode": {
    "name": "ipython",
    "version": 3
   },
   "file_extension": ".py",
   "mimetype": "text/x-python",
   "name": "python",
   "nbconvert_exporter": "python",
   "pygments_lexer": "ipython3",
   "version": "3.8.2"
  }
 },
 "nbformat": 4,
 "nbformat_minor": 4
}
