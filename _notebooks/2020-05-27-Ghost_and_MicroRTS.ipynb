{
 "cells": [
  {
   "cell_type": "markdown",
   "metadata": {},
   "source": [
    "# \"Talking about the Ghost + MicroRTS = MicroPhantom\"\n",
    "> \"This is a abstracti about the paper [microPhantom: Playing microRTS\n",
    "under uncertainty and chaos](https://arxiv.org/pdf/2005.11019.pdf).\"\n",
    "\n",
    "- toc: true\n",
    "- badges: false\n",
    "- comments: true\n",
    "- categories: [abstract, microrts]"
   ]
  },
  {
   "cell_type": "markdown",
   "metadata": {},
   "source": [
    "## Details about charts\n",
    "\n",
    "\n",
    "Each group of charts is interactive, it means that you can click on the bars. They have tooltips in each bar with code, test, and the agent type associated with each player tested.\n",
    "\n",
    "Agent type can be: \n",
    "MP = Main Player \n",
    "ME = Main Exploiter\n",
    "LE = League Exploiter.\n",
    "\n",
    "The Charts with the y-axis labeled \"TOTAL\" can be viewed as \"controller\". The maximum score in this chart is 60. The others, 10."
   ]
  }
 ],
 "metadata": {
  "kernelspec": {
   "display_name": "Python 3",
   "language": "python",
   "name": "python3"
  },
  "language_info": {
   "codemirror_mode": {
    "name": "ipython",
    "version": 3
   },
   "file_extension": ".py",
   "mimetype": "text/x-python",
   "name": "python",
   "nbconvert_exporter": "python",
   "pygments_lexer": "ipython3",
   "version": "3.8.2"
  }
 },
 "nbformat": 4,
 "nbformat_minor": 4
}
