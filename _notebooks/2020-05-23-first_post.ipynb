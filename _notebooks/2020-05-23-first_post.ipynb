{
  "nbformat": 4,
  "nbformat_minor": 0,
  "metadata": {
    "colab": {
      "name": "2020-05-23-first_post.ipynb",
      "provenance": []
    },
    "kernelspec": {
      "name": "python3",
      "display_name": "Python 3"
    }
  },
  "cells": [
    {
      "cell_type": "code",
      "metadata": {
        "id": "jJdjGAZo8Dwt",
        "colab_type": "code",
        "colab": {}
      },
      "source": [
        "# \"Why am I writing a blog?\"\n",
        "> \"Awesome summary\"\n",
        "\n",
        "- toc: true- branch: master- badges: true\n",
        "- comments: true\n",
        "- author: Hamel Husain & Jeremy Howard\n",
        "- categories: [fastpages, jupyter]"
      ],
      "execution_count": 0,
      "outputs": []
    }
  ]
}