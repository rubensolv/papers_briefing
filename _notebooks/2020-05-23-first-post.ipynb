{
  "nbformat": 4,
  "nbformat_minor": 0,
  "metadata": {
    "colab": {
      "name": "2020-05-23-first-post.ipynb",
      "provenance": []
    },
    "kernelspec": {
      "name": "python3",
      "display_name": "Python 3"
    }
  },
  "cells": [
    {
      "cell_type": "markdown",
      "metadata": {
        "id": "sG-jfZkCADAF",
        "colab_type": "text"
      },
      "source": [
        "# \"Why am I writing a blog?\"\n",
        "> \"Awesome summary\"\n",
        "\n",
        "- toc: true- branch: master- badges: true\n",
        "- comments: true\n",
        "- author: Rubens O. Moraes\n",
        "- categories: [IA, Introduction]\n",
        "\n"
      ]
    }
  ]
}