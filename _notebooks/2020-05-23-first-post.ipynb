{
 "cells": [
  {
   "cell_type": "markdown",
   "metadata": {},
   "source": [
    "# \"Why am I writing a blog?\"\n",
    "> \"Trying to clarify why I started writing this blog. Just something to warm me up.\"\n",
    "\n",
    "- toc: true\n",
    "- badges: false\n",
    "- comments: true\n",
    "- categories: [introduction]"
   ]
  },
  {
   "cell_type": "markdown",
   "metadata": {},
   "source": [
    "## A Small Introduction\n",
    "This is my first post-blog and probably I will write something wrong or use a wrong word for explain something. It is commom when we are just writing, I think. \n",
    "\n",
    "If you are looking for a copy of my papers, you can find [here](rubensoliveiramoraes.wordpress.com). That is my personal (maybe professional (?)) website.\n",
    "\n",
    "I started this blog to write some abstracts about papers that I'm reading or that I had read. I don't have plans to write something perfect or well write. I just will use this blog to practice. Sometimes I can write some briefings about the research that I'm doing. I don't know if it will make sense at here, but I can try to write something understandable."
   ]
  },
  {
   "cell_type": "markdown",
   "metadata": {},
   "source": [
    "![](https://www.google.com/url?sa=i&url=https%3A%2F%2Fwww.pinterest.com%2Fpin%2F481955597616676830%2F&psig=AOvVaw2_jevaWzXg1vG-QQf3LEgQ&ust=1590425538481000&source=images&cd=vfe&ved=0CAIQjRxqFwoTCMiEuv36zOkCFQAAAAAdAAAAABAD)"
   ]
  }
 ],
 "metadata": {
  "kernelspec": {
   "display_name": "Python 3",
   "language": "python",
   "name": "python3"
  },
  "language_info": {
   "codemirror_mode": {
    "name": "ipython",
    "version": 3
   },
   "file_extension": ".py",
   "mimetype": "text/x-python",
   "name": "python",
   "nbconvert_exporter": "python",
   "pygments_lexer": "ipython3",
   "version": "3.8.2"
  }
 },
 "nbformat": 4,
 "nbformat_minor": 4
}
